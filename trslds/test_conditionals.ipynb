{
 "cells": [
  {
   "cell_type": "code",
   "execution_count": 1,
   "metadata": {},
   "outputs": [],
   "source": [
    "import numpy as np\n",
    "import copy\n",
    "import numpy.random as npr\n",
    "import matplotlib.pyplot as plt\n",
    "from numpy import newaxis as na\n",
    "import utils\n",
    "import conditionals as samp\n",
    "from tqdm import tqdm\n",
    "npr.seed(0)\n",
    "%matplotlib inline"
   ]
  },
  {
   "cell_type": "code",
   "execution_count": 2,
   "metadata": {},
   "outputs": [],
   "source": [
    "dim = 2\n",
    "dim_y = 2\n",
    "neurons = 100\n",
    "nu = dim + 1\n",
    "K = 4\n",
    "depth = 3\n",
    "\"\"\"\n",
    "Parameters of generative model\n",
    "\"\"\"\n",
    "depth=3\n",
    "scale=0.6\n",
    "dim=2\n",
    "Q=0.001*np.eye(dim)\n",
    "\n",
    "\"\"\"\n",
    "Hyper-planes\n",
    "\"\"\"\n",
    "R_par=np.zeros((dim + 1,1))\n",
    "R_par[0,0]=100\n",
    "R_par[1,0]=100\n",
    "r_par=np.array([0.0])\n",
    "\n",
    "R=[]\n",
    "R.append(copy.deepcopy(R_par))\n",
    "R_temp=np.zeros((dim + 1,2))\n",
    "R_temp[:-1,0]=np.array([-100, 100]) #Left hyperplane\n",
    "R_temp[:-1,1]=np.array([-100, 100]) #Right hyperplane\n",
    "R.append(copy.deepcopy(R_temp))\n",
    "\n",
    "\n",
    "\"\"\"\n",
    "Emission parameters\n",
    "\"\"\"\n",
    "C=np.eye(dim)\n",
    "C[0, 1] = 2\n",
    "S=0.005*np.eye(dim)\n",
    "\n",
    "\"\"\"\n",
    "Dynamic Parameters\n",
    "\"\"\"\n",
    "A = np.zeros((dim, dim + 1, K))\n",
    "\n",
    "#layer 2\n",
    "theta_1 = -.15*np.pi/2\n",
    "theta_2 = -.05*np.pi/2\n",
    "\n",
    "A[:, :-1, 0] = np.eye(dim)\n",
    "A[:, -1, 0] = np.array( [.25, 0] )\n",
    "\n",
    "A[:, :-1, 1] = np.array( [ [ np.cos( theta_1 ), -np.sin( theta_1 ) ], [ np.sin( theta_1 ), np.cos( theta_1 ) ] ] )\n",
    "A[:, -1, 1] = ((A[:, :-1, 1] + np.eye(dim) ) @ np.array ( [-4, 0] )[:, na]).flatten()\n",
    "\n",
    "A[:, :-1, 2] = np.array( [ [ np.cos( theta_2 ), -np.sin( theta_2 ) ], [ np.sin( theta_2 ), np.cos( theta_2 ) ] ] )\n",
    "A[:, -1, 2] = ((A[:, :-1, 2] + np.eye(dim) ) @ np.array ( [4, 0] )[:, na]).flatten()\n",
    "\n",
    "\n",
    "A[:, :-1, 3] = np.eye( dim )\n",
    "A[:, -1, 3] = np.array( [-.05, 0] )\n",
    "\n",
    "\n",
    "\n",
    "possible_paths=np.ones((depth,K))\n",
    "for d in range(1,depth):\n",
    "    temp=np.arange(0,2**int(d))+1\n",
    "    possible_paths[d,:]=np.repeat(temp,int(K/temp.size))"
   ]
  },
  {
   "cell_type": "code",
   "execution_count": 3,
   "metadata": {},
   "outputs": [
    {
     "name": "stderr",
     "output_type": "stream",
     "text": [
      "  0%|          | 0/200 [00:00<?, ?it/s]/Users/josuenassar/anaconda3/lib/python3.6/site-packages/ipykernel_launcher.py:29: RuntimeWarning: divide by zero encountered in log\n",
      "  0%|          | 1/200 [00:00<00:54,  3.68it/s]/Users/josuenassar/anaconda3/lib/python3.6/site-packages/ipykernel_launcher.py:30: RuntimeWarning: divide by zero encountered in log\n",
      "  2%|▏         | 3/200 [00:00<00:58,  3.34it/s]/Users/josuenassar/anaconda3/lib/python3.6/site-packages/ipykernel_launcher.py:51: RuntimeWarning: divide by zero encountered in log\n",
      " 50%|████▉     | 99/200 [00:27<00:28,  3.55it/s]/Users/josuenassar/anaconda3/lib/python3.6/site-packages/ipykernel_launcher.py:52: RuntimeWarning: divide by zero encountered in log\n",
      "100%|██████████| 200/200 [00:55<00:00,  3.58it/s]\n"
     ]
    }
   ],
   "source": [
    "#Generate data\n",
    "no_realizations = 200\n",
    "Tmax = 800\n",
    "Tmin = 600\n",
    "\n",
    "X = []\n",
    "Y = []\n",
    "paths = []\n",
    "Z = []\n",
    "\n",
    "starting_pts = np.random.uniform(-15, 15, (dim, no_realizations) ) \n",
    "for n in tqdm(range(no_realizations)):\n",
    "    T = npr.randint(Tmin, Tmax + 1)\n",
    "    #Will be used to keep track of the path at every time instant\n",
    "    path=np.ones( (depth, T+1) )\n",
    "    #Generate data\n",
    "    x = np.zeros((dim,T+1))\n",
    "    x[:,0] = starting_pts[:, n]\n",
    "    y = np.zeros((dim,T))\n",
    "    z = K * np.ones(T + 1)\n",
    "    for t in range(T):\n",
    "        #First decide what path you will take\n",
    "        log_prior_prob=np.zeros((K,1))\n",
    "        for d in range(0,depth-1):\n",
    "            temp=np.zeros((int(2**(d+1)),1)) #Make an array whose length is equal to the number hyperplanes at that level of the tree\n",
    "            counter=0\n",
    "            for j in range(0,int(2**d)):\n",
    "                v = np.matmul(R[d][:-1, j], x[:, t]) + R[d][-1, j]\n",
    "                temp[counter]=np.log(utils.sigmoid(v))\n",
    "                temp[counter+1]=np.log(utils.sigmoid(-v))\n",
    "                counter+=2\n",
    "            log_prior_prob=log_prior_prob+np.repeat(temp,int(K/temp.size),axis=0)\n",
    "        p_norm=np.exp(log_prior_prob)\n",
    "        \n",
    "        #Sample which path we will take\n",
    "        choice = np.random.multinomial(1,p_norm.ravel(),size=1)\n",
    "        path[:, t] =  possible_paths[:, np.where(choice==1)[1][0]].ravel()\n",
    "        z[t] = np.where(choice[0, :] == 1)[0][0]\n",
    "        \n",
    "        #Simulate forward\n",
    "        x[:, t + 1] = (A[:, :-1, int(z[t])] @ x[:, t][:, na] + A[:, -1, int(z[t])][:, na] \n",
    "                    + np.random.multivariate_normal( [0,0], Q )[:, na]).flatten()\n",
    "        y[:, t] = (C @ x[:, t + 1][:, na] + np.random.multivariate_normal( [0,0], S )[:, na]).flatten()\n",
    "    \n",
    "    log_prior_prob=np.zeros((K,1))\n",
    "    for d in range(0,depth-1):\n",
    "        temp=np.zeros((int(2**(d+1)),1)) #Make an array whose length is equal to the number hyperplanes at that level of the tree\n",
    "        counter=0\n",
    "        for j in range(0,int(2**d)):\n",
    "            v = np.matmul(R[d][:-1, j], x[:, T]) + R[d][-1, j]\n",
    "            temp[counter]=np.log(utils.sigmoid(v))\n",
    "            temp[counter+1]=np.log(utils.sigmoid(-v))\n",
    "            counter+=2\n",
    "        log_prior_prob=log_prior_prob+np.repeat(temp,int(K/temp.size),axis=0)\n",
    "    p_norm=np.exp(log_prior_prob)\n",
    "    \n",
    "    #Sample which path we will take\n",
    "    choice = np.random.multinomial(1,p_norm.ravel(),size=1)\n",
    "    path[:, T] =  possible_paths[:, np.where(choice==1)[1][0]].ravel()\n",
    "    z[T] = np.where(choice[0, :] == 1)[0][0]\n",
    "\n",
    "    X.append(x)\n",
    "    Y.append(y)\n",
    "    paths.append(path)\n",
    "    Z.append(z)\n",
    "#     X.append(copy.copy(x))\n",
    "#     Y.append(copy.copy(y))\n",
    "#     paths.append(copy.copy(path))\n",
    "#     Z.append(copy.copy(z))"
   ]
  },
  {
   "cell_type": "code",
   "execution_count": 4,
   "metadata": {},
   "outputs": [
    {
     "name": "stderr",
     "output_type": "stream",
     "text": [
      "100%|██████████| 200/200 [00:01<00:00, 116.22it/s]\n"
     ]
    },
    {
     "data": {
      "image/png": "[encoded data removed]",
      "text/plain": [
       "<matplotlib.figure.Figure at 0x1a1852f630>"
      ]
     },
     "metadata": {},
     "output_type": "display_data"
    }
   ],
   "source": [
    "\"Plot data\"\n",
    "fig = plt.figure(figsize=(10, 10))\n",
    "ax = fig.add_subplot(111)\n",
    "for idx in tqdm(range(no_realizations)):\n",
    "    ax.scatter(X[idx][0, np.where(Z[idx]==0)], X[idx][1, np.where(Z[idx]==0)], color='green')\n",
    "    ax.scatter(X[idx][0, np.where(Z[idx]==1)], X[idx][1, np.where(Z[idx]==1)], color='red')\n",
    "    ax.scatter(X[idx][0, np.where(Z[idx]==2)], X[idx][1, np.where(Z[idx]==2)], color='blue')\n",
    "    ax.scatter(X[idx][0, np.where(Z[idx]==3)], X[idx][1, np.where(Z[idx]==3)], color='purple')"
   ]
  },
  {
   "cell_type": "markdown",
   "metadata": {},
   "source": [
    "# Start Testing Code"
   ]
  },
  {
   "cell_type": "code",
   "execution_count": 5,
   "metadata": {},
   "outputs": [],
   "source": [
    "\"Define hyperparameters used in sampling\"\n",
    "#Emission\n",
    "My = np.zeros((dim_y, dim + 1))\n",
    "nuy = dim_y + 1\n",
    "lambday = 1e-7 * np.eye(dim_y)\n",
    "Vy = 1000 * np.eye(dim + 1)\n",
    "\n",
    "#Dynamics\n",
    "Mx = np.zeros((dim, dim + 1))\n",
    "nux = dim + 1\n",
    "lambdax = dim + 1\n",
    "Vx = 1000 * np.eye(dim + 1)\n",
    "\n",
    "#Hyperplanes\n",
    "mu = np.zeros(dim + 1)\n",
    "Sigma = 1000 * np.eye(dim + 1)\n",
    "\n",
    "#boolean mask\n",
    "mask = [np.ones(X[idx][0, :].size).astype(bool) for idx in range(no_realizations)]"
   ]
  },
  {
   "cell_type": "markdown",
   "metadata": {},
   "source": [
    "## Testing emission conditional distribution"
   ]
  },
  {
   "cell_type": "code",
   "execution_count": 6,
   "metadata": {},
   "outputs": [
    {
     "name": "stderr",
     "output_type": "stream",
     "text": [
      "  0%|          | 0/1000 [00:00<?, ?it/s]\n"
     ]
    },
    {
     "ename": "TypeError",
     "evalue": "data type not understood",
     "output_type": "error",
     "traceback": [
      "\u001b[0;31m---------------------------------------------------------------------------\u001b[0m",
      "\u001b[0;31mTypeError\u001b[0m                                 Traceback (most recent call last)",
      "\u001b[0;32m<ipython-input-6-795b1231a571>\u001b[0m in \u001b[0;36m<module>\u001b[0;34m()\u001b[0m\n\u001b[1;32m      3\u001b[0m \u001b[0mno_samples\u001b[0m \u001b[0;34m=\u001b[0m \u001b[0;36m1000\u001b[0m\u001b[0;34m\u001b[0m\u001b[0;34m\u001b[0m\u001b[0m\n\u001b[1;32m      4\u001b[0m \u001b[0;32mfor\u001b[0m \u001b[0mm\u001b[0m \u001b[0;32min\u001b[0m \u001b[0mtqdm\u001b[0m\u001b[0;34m(\u001b[0m\u001b[0mrange\u001b[0m\u001b[0;34m(\u001b[0m\u001b[0mno_samples\u001b[0m\u001b[0;34m)\u001b[0m\u001b[0;34m)\u001b[0m\u001b[0;34m:\u001b[0m\u001b[0;34m\u001b[0m\u001b[0;34m\u001b[0m\u001b[0m\n\u001b[0;32m----> 5\u001b[0;31m     \u001b[0mCsamp\u001b[0m\u001b[0;34m,\u001b[0m \u001b[0mSsamp\u001b[0m \u001b[0;34m=\u001b[0m \u001b[0msamp\u001b[0m\u001b[0;34m.\u001b[0m\u001b[0memission_parameters\u001b[0m\u001b[0;34m(\u001b[0m\u001b[0mY\u001b[0m\u001b[0;34m,\u001b[0m \u001b[0mX\u001b[0m\u001b[0;34m,\u001b[0m \u001b[0mmask\u001b[0m\u001b[0;34m,\u001b[0m \u001b[0mnuy\u001b[0m\u001b[0;34m,\u001b[0m \u001b[0mlambday\u001b[0m\u001b[0;34m,\u001b[0m \u001b[0mMy\u001b[0m\u001b[0;34m,\u001b[0m \u001b[0mVy\u001b[0m\u001b[0;34m,\u001b[0m \u001b[0mnormalize\u001b[0m\u001b[0;34m=\u001b[0m\u001b[0;32mFalse\u001b[0m\u001b[0;34m)\u001b[0m\u001b[0;34m\u001b[0m\u001b[0;34m\u001b[0m\u001b[0m\n\u001b[0m",
      "\u001b[0;32m~/Google Drive/Python/TrSLDS/trslds/conditionals.py\u001b[0m in \u001b[0;36memission_parameters\u001b[0;34m(obsv, states, mask, nu, Lambda, M, V, normalize)\u001b[0m\n\u001b[1;32m     85\u001b[0m     '''\n\u001b[1;32m     86\u001b[0m     M_posterior, V_posterior, IW_matrix, df_posterior = utils.compute_emission_ss_mniw(obsv, states, mask,\n\u001b[0;32m---> 87\u001b[0;31m                                                                                        nu, Lambda, M, V)\n\u001b[0m\u001b[1;32m     88\u001b[0m \u001b[0;34m\u001b[0m\u001b[0m\n\u001b[1;32m     89\u001b[0m     \u001b[0mC\u001b[0m\u001b[0;34m,\u001b[0m \u001b[0mS\u001b[0m \u001b[0;34m=\u001b[0m \u001b[0mutils\u001b[0m\u001b[0;34m.\u001b[0m\u001b[0msample_mniw\u001b[0m\u001b[0;34m(\u001b[0m\u001b[0mdf_posterior\u001b[0m\u001b[0;34m,\u001b[0m \u001b[0mIW_matrix\u001b[0m\u001b[0;34m,\u001b[0m \u001b[0mM_posterior\u001b[0m\u001b[0;34m,\u001b[0m \u001b[0mV_posterior\u001b[0m\u001b[0;34m)\u001b[0m\u001b[0;34m\u001b[0m\u001b[0;34m\u001b[0m\u001b[0m\n",
      "\u001b[0;32m~/Google Drive/Python/TrSLDS/trslds/utils.py\u001b[0m in \u001b[0;36mcompute_emission_ss_mniw\u001b[0;34m(observations, states, mask, nu, Lambda, M, V)\u001b[0m\n\u001b[1;32m     30\u001b[0m     \u001b[0mY\u001b[0m \u001b[0;34m=\u001b[0m \u001b[0mnp\u001b[0m\u001b[0;34m.\u001b[0m\u001b[0mhstack\u001b[0m\u001b[0;34m(\u001b[0m\u001b[0mobservations\u001b[0m\u001b[0;34m)\u001b[0m\u001b[0;34m.\u001b[0m\u001b[0mT\u001b[0m \u001b[0;31m#stack observations\u001b[0m\u001b[0;34m\u001b[0m\u001b[0;34m\u001b[0m\u001b[0m\n\u001b[1;32m     31\u001b[0m     \u001b[0mX\u001b[0m \u001b[0;34m=\u001b[0m \u001b[0mnp\u001b[0m\u001b[0;34m.\u001b[0m\u001b[0mhstack\u001b[0m\u001b[0;34m(\u001b[0m\u001b[0;34m[\u001b[0m\u001b[0mstates\u001b[0m\u001b[0;34m[\u001b[0m\u001b[0midx\u001b[0m\u001b[0;34m]\u001b[0m\u001b[0;34m[\u001b[0m\u001b[0;34m:\u001b[0m\u001b[0;34m,\u001b[0m \u001b[0;36m1\u001b[0m\u001b[0;34m:\u001b[0m\u001b[0;34m]\u001b[0m \u001b[0;32mfor\u001b[0m \u001b[0midx\u001b[0m \u001b[0;32min\u001b[0m \u001b[0mrange\u001b[0m\u001b[0;34m(\u001b[0m\u001b[0mlen\u001b[0m\u001b[0;34m(\u001b[0m\u001b[0mstates\u001b[0m\u001b[0;34m)\u001b[0m\u001b[0;34m)\u001b[0m\u001b[0;34m]\u001b[0m\u001b[0;34m)\u001b[0m \u001b[0;31m#Stack observations disregarding the first point\u001b[0m\u001b[0;34m\u001b[0m\u001b[0;34m\u001b[0m\u001b[0m\n\u001b[0;32m---> 32\u001b[0;31m     \u001b[0mX\u001b[0m \u001b[0;34m=\u001b[0m \u001b[0mnp\u001b[0m\u001b[0;34m.\u001b[0m\u001b[0mvstack\u001b[0m\u001b[0;34m(\u001b[0m\u001b[0;34m(\u001b[0m\u001b[0mX\u001b[0m\u001b[0;34m,\u001b[0m \u001b[0mnp\u001b[0m\u001b[0;34m.\u001b[0m\u001b[0mones\u001b[0m\u001b[0;34m(\u001b[0m\u001b[0;34m(\u001b[0m\u001b[0mX\u001b[0m\u001b[0;34m[\u001b[0m\u001b[0;36m0\u001b[0m\u001b[0;34m,\u001b[0m \u001b[0;34m:\u001b[0m\u001b[0;34m]\u001b[0m\u001b[0;34m.\u001b[0m\u001b[0msize\u001b[0m\u001b[0;34m)\u001b[0m\u001b[0;34m,\u001b[0m \u001b[0;36m1\u001b[0m\u001b[0;34m)\u001b[0m\u001b[0;34m)\u001b[0m\u001b[0;34m)\u001b[0m\u001b[0;34m.\u001b[0m\u001b[0mT\u001b[0m \u001b[0;31m#Stack vector of ones to learn affine term\u001b[0m\u001b[0;34m\u001b[0m\u001b[0;34m\u001b[0m\u001b[0m\n\u001b[0m\u001b[1;32m     33\u001b[0m \u001b[0;34m\u001b[0m\u001b[0m\n\u001b[1;32m     34\u001b[0m     \u001b[0mboolean_mask\u001b[0m \u001b[0;34m=\u001b[0m \u001b[0mnp\u001b[0m\u001b[0;34m.\u001b[0m\u001b[0mhstack\u001b[0m\u001b[0;34m(\u001b[0m\u001b[0mmask\u001b[0m\u001b[0;34m)\u001b[0m\u001b[0;34m.\u001b[0m\u001b[0mT\u001b[0m\u001b[0;34m\u001b[0m\u001b[0;34m\u001b[0m\u001b[0m\n",
      "\u001b[0;32m~/anaconda3/lib/python3.6/site-packages/numpy/core/numeric.py\u001b[0m in \u001b[0;36mones\u001b[0;34m(shape, dtype, order)\u001b[0m\n\u001b[1;32m    201\u001b[0m \u001b[0;34m\u001b[0m\u001b[0m\n\u001b[1;32m    202\u001b[0m     \"\"\"\n\u001b[0;32m--> 203\u001b[0;31m     \u001b[0ma\u001b[0m \u001b[0;34m=\u001b[0m \u001b[0mempty\u001b[0m\u001b[0;34m(\u001b[0m\u001b[0mshape\u001b[0m\u001b[0;34m,\u001b[0m \u001b[0mdtype\u001b[0m\u001b[0;34m,\u001b[0m \u001b[0morder\u001b[0m\u001b[0;34m)\u001b[0m\u001b[0;34m\u001b[0m\u001b[0;34m\u001b[0m\u001b[0m\n\u001b[0m\u001b[1;32m    204\u001b[0m     \u001b[0mmultiarray\u001b[0m\u001b[0;34m.\u001b[0m\u001b[0mcopyto\u001b[0m\u001b[0;34m(\u001b[0m\u001b[0ma\u001b[0m\u001b[0;34m,\u001b[0m \u001b[0;36m1\u001b[0m\u001b[0;34m,\u001b[0m \u001b[0mcasting\u001b[0m\u001b[0;34m=\u001b[0m\u001b[0;34m'unsafe'\u001b[0m\u001b[0;34m)\u001b[0m\u001b[0;34m\u001b[0m\u001b[0;34m\u001b[0m\u001b[0m\n\u001b[1;32m    205\u001b[0m     \u001b[0;32mreturn\u001b[0m \u001b[0ma\u001b[0m\u001b[0;34m\u001b[0m\u001b[0;34m\u001b[0m\u001b[0m\n",
      "\u001b[0;31mTypeError\u001b[0m: data type not understood"
     ]
    }
   ],
   "source": [
    "C_samples = []\n",
    "S_samples = []\n",
    "no_samples = 1000\n",
    "for m in tqdm(range(no_samples)):\n",
    "    Csamp, Ssamp = samp.emission_parameters(Y, X, mask, nuy, lambday, My, Vy, normalize=False)"
   ]
  },
  {
   "cell_type": "code",
   "execution_count": null,
   "metadata": {},
   "outputs": [],
   "source": []
  }
 ],
 "metadata": {
  "kernelspec": {
   "display_name": "Python 3",
   "language": "python",
   "name": "python3"
  },
  "language_info": {
   "codemirror_mode": {
    "name": "ipython",
    "version": 3
   },
   "file_extension": ".py",
   "mimetype": "text/x-python",
   "name": "python",
   "nbconvert_exporter": "python",
   "pygments_lexer": "ipython3",
   "version": "3.6.8"
  }
 },
 "nbformat": 4,
 "nbformat_minor": 2
}
